{
 "cells": [
  {
   "cell_type": "markdown",
   "id": "455e8487-3a2f-4b1b-94a8-db3ce280d6e7",
   "metadata": {},
   "source": [
    "# Alert System For Detecting Obstacles"
   ]
  },
  {
   "cell_type": "code",
   "execution_count": 1,
   "id": "5af36ae9-2eda-451f-afb5-4a6ab6e18ec6",
   "metadata": {},
   "outputs": [],
   "source": [
    "import torch, random\n",
    "import torchvision\n",
    "import torchvision.models as models\n",
    "from torchvision import transforms, datasets\n",
    "from torch.utils.data import DataLoader\n",
    "import matplotlib.pyplot as plt\n",
    "import seaborn as sns\n",
    "import numpy as np\n",
    "import threading\n",
    "import time\n",
    "import playsound"
   ]
  },
  {
   "cell_type": "code",
   "execution_count": 4,
   "id": "e697fb9e-8ad1-4f29-88df-c01e379f77ab",
   "metadata": {},
   "outputs": [
    {
     "name": "stderr",
     "output_type": "stream",
     "text": [
      "C:\\Users\\pc\\AppData\\Local\\Programs\\Python\\Python312\\Lib\\site-packages\\torchvision\\models\\_utils.py:208: UserWarning: The parameter 'pretrained' is deprecated since 0.13 and may be removed in the future, please use 'weights' instead.\n",
      "  warnings.warn(\n",
      "C:\\Users\\pc\\AppData\\Local\\Programs\\Python\\Python312\\Lib\\site-packages\\torchvision\\models\\_utils.py:223: UserWarning: Arguments other than a weight enum or `None` for 'weights' are deprecated since 0.13 and may be removed in the future. The current behavior is equivalent to passing `weights=None`.\n",
      "  warnings.warn(msg)\n"
     ]
    }
   ],
   "source": [
    "# Recreate the model architecture\n",
    "mobilenet = models.mobilenet_v2(pretrained=False)\n",
    "\n",
    "# Modify the classifier to match the number of classes\n",
    "num_classes = 10 \n",
    "mobilenet.classifier[1] = nn.Linear(mobilenet.last_channel, num_classes)\n",
    "\n",
    "mobilenet = mobilenet.to(device)"
   ]
  },
  {
   "cell_type": "code",
   "execution_count": 6,
   "id": "70f5cbc5-ea12-42f3-9de7-a96203216c49",
   "metadata": {},
   "outputs": [
    {
     "name": "stderr",
     "output_type": "stream",
     "text": [
      "C:\\Users\\pc\\AppData\\Local\\Temp\\ipykernel_24860\\2737934849.py:1: FutureWarning: You are using `torch.load` with `weights_only=False` (the current default value), which uses the default pickle module implicitly. It is possible to construct malicious pickle data which will execute arbitrary code during unpickling (See https://github.com/pytorch/pytorch/blob/main/SECURITY.md#untrusted-models for more details). In a future release, the default value for `weights_only` will be flipped to `True`. This limits the functions that could be executed during unpickling. Arbitrary objects will no longer be allowed to be loaded via this mode unless they are explicitly allowlisted by the user via `torch.serialization.add_safe_globals`. We recommend you start setting `weights_only=True` for any use case where you don't have full control of the loaded file. Please open an issue on GitHub for any issues related to this experimental feature.\n",
      "  mobilenet.load_state_dict(torch.load('obstacle_detection_mobilenet.pth', map_location=device))\n"
     ]
    },
    {
     "data": {
      "text/plain": [
       "<All keys matched successfully>"
      ]
     },
     "execution_count": 6,
     "metadata": {},
     "output_type": "execute_result"
    }
   ],
   "source": [
    "mobilenet.load_state_dict(torch.load('obstacle_detection_mobilenet.pth', map_location=device))"
   ]
  },
  {
   "cell_type": "code",
   "execution_count": null,
   "id": "fef3e09d-3f35-4e6c-be14-e04a4b3fca27",
   "metadata": {},
   "outputs": [],
   "source": [
    "def visualize_prediction(model, img_path, true_class):\n",
    "    model.eval()\n",
    "    with torch.no_grad():\n",
    "        # Prepare image for model\n",
    "        input_img = img.unsqueeze(0)  # Add batch dimension\n",
    "        output = model(input_img)\n",
    "        pred_label = output.argmax(dim=1).item()  # Get the predicted class index\n",
    "            \n",
    "        # Display the image\n",
    "        plt.imshow(img)\n",
    "        plt.axis(\"off\")\n",
    "        plt.set_title(f\"True: {idx_to_class[label]}\\nPred: {idx_to_class[pred_label]}\",\n",
    "                fontsize=10, color=\"green\" if label == pred_label else \"red\")\n",
    "    \n",
    "    plt.tight_layout()\n",
    "    plt.show()"
   ]
  },
  {
   "cell_type": "code",
   "execution_count": null,
   "id": "ef4e933a-4ba0-4d37-990f-cf06626ea7a8",
   "metadata": {},
   "outputs": [],
   "source": [
    "def alert_obstacle():\n",
    "    audio_file = 'alert.mp3'\n",
    "    try:\n",
    "        playsound.playsound(audio_file)\n",
    "    except Exception as e:\n",
    "        print(f\"Error playing sound: {e}\")\n",
    "\n",
    "# def detect_real_time(model, data_loader, device, obstacle_class_index=1):\n",
    "#     model.eval()\n",
    "#     with torch.no_grad():\n",
    "#         for inputs, labels in data_loader:\n",
    "#             inputs = inputs.to(device)\n",
    "\n",
    "#             outputs = model(inputs)\n",
    "#             predictions = outputs.argmax(1)\n",
    "\n",
    "#             if (predictions == obstacle_class_index).any():\n",
    "#                 print(\"Obstacle detected!\")\n",
    "#                 threading.Thread(target=alert_obstacle).start()\n",
    "\n",
    "#             time.sleep(0.5)\n"
   ]
  },
  {
   "cell_type": "code",
   "execution_count": null,
   "id": "f0f5f229-e28d-4436-b098-fd3a2a5281c7",
   "metadata": {},
   "outputs": [],
   "source": [
    "transform = transforms.Compose([\n",
    "    transforms.Resize((128, 128)),\n",
    "    transforms.ToTensor(),\n",
    "    transforms.Normalize(mean=[0.485, 0.456, 0.406], std=[0.229, 0.224, 0.225]),\n",
    "])\n",
    "\n",
    "def load_image(image_path):\n",
    "    image = Image.open(image_path).convert('RGB')\n",
    "    return transform(image).unsqueeze(0)  # Add batch dimension\n",
    "\n",
    "def detect_obstacle(image_paths, model, class_names):\n",
    "    \n",
    "    model.eval()\n",
    "    for image_path in image_paths:\n",
    "        try:\n",
    "            # Load and preprocess the image\n",
    "            image = load_image(image_path).to(device)\n",
    "\n",
    "            # Make predictions\n",
    "            with torch.no_grad():\n",
    "                output = model(image)\n",
    "                predicted_class = output.argmax(1).item()\n",
    "\n",
    "            # Display results\n",
    "            print(f\"Image: {image_path}\")\n",
    "            print(f\"Predicted Class: {class_names[predicted_class]}\\n\")\n",
    "        except Exception as e:\n",
    "            print(f\"Error processing {image_path}: {e}\")"
   ]
  },
  {
   "cell_type": "code",
   "execution_count": null,
   "id": "6ff34046-3f48-4ecf-8dca-97fe771836c6",
   "metadata": {},
   "outputs": [],
   "source": [
    "if __name__ == \"__main__\":\n",
    "    # Load the fine-tuned model\n",
    "    device = torch.device(\"cuda\" if torch.cuda.is_available() else \"cpu\")\n",
    "    mobilenet = torchvision.models.mobilenet_v2(pretrained=False)\n",
    "    mobilenet.classifier[1] = torch.nn.Linear(mobilenet.last_channel, num_classes)  # Update output layer\n",
    "    mobilenet.load_state_dict(torch.load('obstacle_detection_mobilenet.pth', map_location=device))\n",
    "    mobilenet.to(device)\n",
    "\n",
    "    # Define the class names\n",
    "    class_names = ['chair', 'door', 'fence', 'garbage_bin', 'obstacle', 'plant', 'pothole', 'stairs', 'table', 'vehicle']\n",
    "\n",
    "    # List of image paths\n",
    "    image_paths = [\n",
    "        r'obstacles dataset/test/obstacle/gambar (239).jpg',\n",
    "        r'obstacles dataset/test/obstacle/1691274417850139_5_jpg.rf.0e53c6a8542eb04effb104a33b470098.jpg',\n",
    "        r'obstacles dataset/test/obstacle/34_jpg.rf.0a6c7459a48a7071c6c22f15f7a3c75c.jpg',\n",
    "    ]\n",
    "\n",
    "    # Detect obstacles\n",
    "    detect_obstacle(image_paths, mobilenet, device, class_names)"
   ]
  },
  {
   "cell_type": "code",
   "execution_count": null,
   "id": "dce2b925-3662-420d-a8df-212823f28d6b",
   "metadata": {},
   "outputs": [],
   "source": [
    "print(\"Obstacle detected!\")\n",
    "threading.Thread(target=alert_obstacle).start()"
   ]
  }
 ],
 "metadata": {
  "kernelspec": {
   "display_name": "Python 3 (ipykernel)",
   "language": "python",
   "name": "python3"
  },
  "language_info": {
   "codemirror_mode": {
    "name": "ipython",
    "version": 3
   },
   "file_extension": ".py",
   "mimetype": "text/x-python",
   "name": "python",
   "nbconvert_exporter": "python",
   "pygments_lexer": "ipython3",
   "version": "3.12.4"
  }
 },
 "nbformat": 4,
 "nbformat_minor": 5
}
